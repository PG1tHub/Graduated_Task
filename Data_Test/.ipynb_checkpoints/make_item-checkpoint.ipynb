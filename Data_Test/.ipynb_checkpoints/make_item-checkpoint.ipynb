{
 "cells": [
  {
   "cell_type": "code",
   "execution_count": 2,
   "id": "5175f31d-076d-47f5-9500-59dd60d19110",
   "metadata": {},
   "outputs": [],
   "source": [
    "import pandas as pd\n",
    "import psycopg2\n",
    "from datetime import datetime, timedelta\n",
    "import random\n",
    "\n",
    "# 데이터베이스 연결 정보\n",
    "db_params = {\n",
    "    'dbname': 'graduate_task',\n",
    "    'user': 'g1',\n",
    "    'password': '0000',\n",
    "    'host': 'localhost',\n",
    "    'port': '5432'\n",
    "}"
   ]
  },
  {
   "cell_type": "code",
   "execution_count": 5,
   "id": "c868e8d6-906d-4382-90c6-99a142bd094c",
   "metadata": {},
   "outputs": [
    {
     "name": "stdout",
     "output_type": "stream",
     "text": [
      "Error inserting Apple Watch SE2 data: duplicate key value violates unique constraint \"item_pkey\"\n",
      "DETAIL:  Key (no)=(1) already exists.\n",
      "\n"
     ]
    }
   ],
   "source": [
    "csv_file_path = (\"bunjang_apple_watch_se2_price_condition_numeric_QCR.csv\")\n",
    "\n",
    "\n",
    "# 데이터베이스에 연결하고 CSV 데이터를 item 테이블에 삽입하는 함수\n",
    "def insert_apple_watch_data():\n",
    "    connection = None\n",
    "    try:\n",
    "        # CSV 파일 읽기\n",
    "        df = pd.read_csv(csv_file_path)\n",
    "\n",
    "        # 데이터베이스 연결\n",
    "        connection = psycopg2.connect(**db_params)\n",
    "        cursor = connection.cursor()\n",
    "\n",
    "        # 데이터 삽입\n",
    "        for index, row in df.iterrows():\n",
    "            no = index + 1  # 고유 번호로 인덱스를 사용\n",
    "            category_no = 1  # 애플워치 카테고리라고 가정\n",
    "            member_no = random.randint(1, 100)  # 1~100 사이의 임의의 사용자 번호\n",
    "            name = f\"Apple Watch SE2 상태: {row['state']}\"\n",
    "            price = row['Price']\n",
    "            state = '미판매'  # 초기에는 미판매 상태로 설정\n",
    "            date = datetime.now() - timedelta(days=random.randint(1, 30))  # 최근 30일 이내 무작위 날짜\n",
    "            viewcount = random.randint(10, 200)  # 조회수 임의로 지정\n",
    "            last_modified_date = datetime.now() - timedelta(days=random.randint(1, 15))\n",
    "            seller_user_no = random.randint(1, 100)  # 구매자 번호 (임의로 설정)\n",
    "            image = None  # 이미지 정보가 없으므로 NULL 값\n",
    "            item_state = str(row['state'])  # 상태를 문자열로 변환하여 설정 (예: '1', '2', ... '5')\n",
    "            price_similar = None  # 유사한 가격을 현재는 NULL로 설정\n",
    "\n",
    "            # SQL 쿼리 작성\n",
    "            insert_query = \"\"\"\n",
    "            INSERT INTO item (no, category_no, member_no, name, price, state, date, viewcount, \n",
    "                              last_modified_date, seller_user_no, image, price_similar, item_state)\n",
    "            VALUES (%s, %s, %s, %s, %s, %s, %s, %s, %s, %s, %s, %s, %s);\n",
    "            \"\"\"\n",
    "            cursor.execute(insert_query, (no, category_no, member_no, name, price, state, date, viewcount,\n",
    "                                          last_modified_date, seller_user_no, image, price_similar, item_state))\n",
    "\n",
    "        # 변경사항 커밋\n",
    "        connection.commit()\n",
    "        print(\"Apple Watch SE2 data inserted successfully.\")\n",
    "\n",
    "    except Exception as error:\n",
    "        print(f\"Error inserting Apple Watch SE2 data: {error}\")\n",
    "    finally:\n",
    "        if cursor:\n",
    "            cursor.close()\n",
    "        if connection:\n",
    "            connection.close()\n",
    "\n",
    "# 함수 호출하여 CSV 데이터를 item 테이블에 삽입\n",
    "insert_apple_watch_data()"
   ]
  },
  {
   "cell_type": "code",
   "execution_count": null,
   "id": "740ad86d-9b20-4811-9620-50c22bb85894",
   "metadata": {},
   "outputs": [],
   "source": []
  }
 ],
 "metadata": {
  "kernelspec": {
   "display_name": "Python 3 (ipykernel)",
   "language": "python",
   "name": "python3"
  },
  "language_info": {
   "codemirror_mode": {
    "name": "ipython",
    "version": 3
   },
   "file_extension": ".py",
   "mimetype": "text/x-python",
   "name": "python",
   "nbconvert_exporter": "python",
   "pygments_lexer": "ipython3",
   "version": "3.11.7"
  }
 },
 "nbformat": 4,
 "nbformat_minor": 5
}
